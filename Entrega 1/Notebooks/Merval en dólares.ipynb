{
 "cells": [
  {
   "cell_type": "code",
   "execution_count": null,
   "metadata": {},
   "outputs": [],
   "source": [
    "import pandas as pd"
   ]
  },
  {
   "cell_type": "code",
   "execution_count": null,
   "metadata": {},
   "outputs": [],
   "source": [
    "pd.read_csv(\"Entrega 1\\Datasets\\Datos históricos S&P Merval - Lena.csv\")\n",
    "\n",
    "#Dataset Merval"
   ]
  },
  {
   "cell_type": "code",
   "execution_count": null,
   "metadata": {},
   "outputs": [],
   "source": [
    "pd.read_excel(\"Entrega 1\\Datasets\\Cotización histórica CCL - Lena.xlsx\")\n",
    "\n",
    "#Cotización del dólar contado con liquidación"
   ]
  },
  {
   "cell_type": "code",
   "execution_count": null,
   "metadata": {},
   "outputs": [],
   "source": [
    "#El objetivo es usando las fechas para unir ambos datasets para dividir la cotización del índice S&P Merval de la Argentina \n",
    "#expresado en pesos argentinos por la cotización del dólar contado con liquidación, tc implícito en la cotización de bonos para\n",
    "#poder analizar como fue la variación del índice expresado en moneda dura, también analizar el nivel de correlación entre la\n",
    "# variación  del índice y el aumento del dólar CCL. También ver el comportamiento semanal, mensual y anual de ambos datasets.  "
   ]
  }
 ],
 "metadata": {
  "kernelspec": {
   "display_name": "base",
   "language": "python",
   "name": "python3"
  },
  "language_info": {
   "name": "python",
   "version": "3.9.13"
  },
  "orig_nbformat": 4,
  "vscode": {
   "interpreter": {
    "hash": "ad2bdc8ecc057115af97d19610ffacc2b4e99fae6737bb82f5d7fb13d2f2c186"
   }
  }
 },
 "nbformat": 4,
 "nbformat_minor": 2
}
