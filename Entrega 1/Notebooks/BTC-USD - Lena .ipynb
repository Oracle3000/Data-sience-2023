{
 "cells": [
  {
   "cell_type": "code",
   "execution_count": 1,
   "metadata": {},
   "outputs": [],
   "source": [
    "import pandas as pd"
   ]
  },
  {
   "cell_type": "code",
   "execution_count": null,
   "metadata": {},
   "outputs": [],
   "source": [
    "pd.read_csv(\"Entrega 1\\Datasets\\BTC-USD - Lena .csv\")"
   ]
  },
  {
   "cell_type": "code",
   "execution_count": null,
   "metadata": {},
   "outputs": [],
   "source": [
    "# El objetivo es analizar la variación de precio del bitcoin a lo largo del tiempo, poder establecer medias móviles de 9, 20, 50 \n",
    "# y 100 días, analizar mínimo y máximos a lo largo de los meses y años. \n"
   ]
  }
 ],
 "metadata": {
  "kernelspec": {
   "display_name": "Python 3",
   "language": "python",
   "name": "python3"
  },
  "language_info": {
   "codemirror_mode": {
    "name": "ipython",
    "version": 3
   },
   "file_extension": ".py",
   "mimetype": "text/x-python",
   "name": "python",
   "nbconvert_exporter": "python",
   "pygments_lexer": "ipython3",
   "version": "3.10.5"
  },
  "orig_nbformat": 4,
  "vscode": {
   "interpreter": {
    "hash": "dd14a1dc097158ae763f98e754ae5aef3a6274224e13058b21c7a8a58d14b6bf"
   }
  }
 },
 "nbformat": 4,
 "nbformat_minor": 2
}
